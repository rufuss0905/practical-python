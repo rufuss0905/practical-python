{
  "nbformat": 4,
  "nbformat_minor": 0,
  "metadata": {
    "colab": {
      "provenance": [],
      "collapsed_sections": [],
      "authorship_tag": "ABX9TyOJ969sKcqYq29ur8o/JmyW",
      "include_colab_link": true
    },
    "kernelspec": {
      "name": "python3",
      "display_name": "Python 3"
    },
    "language_info": {
      "name": "python"
    }
  },
  "cells": [
    {
      "cell_type": "markdown",
      "metadata": {
        "id": "view-in-github",
        "colab_type": "text"
      },
      "source": [
        "<a href=\"https://colab.research.google.com/github/rufuss0905/practical-python/blob/master/github_python_course.ipynb\" target=\"_parent\"><img src=\"https://colab.research.google.com/assets/colab-badge.svg\" alt=\"Open In Colab\"/></a>"
      ]
    },
    {
      "cell_type": "code",
      "source": [
        "# mortgage.py\n",
        "#\n",
        "# Exercise 1.7\n",
        "print(1234)"
      ],
      "metadata": {
        "colab": {
          "base_uri": "https://localhost:8080/"
        },
        "id": "oWs_B4tUW589",
        "outputId": "de62ad63-1e96-4480-f0da-31d16bdf7e5d"
      },
      "execution_count": null,
      "outputs": [
        {
          "output_type": "stream",
          "name": "stdout",
          "text": [
            "1234\n"
          ]
        }
      ]
    },
    {
      "cell_type": "code",
      "source": [
        "%%writefile /content/practical-python/Work/mortgage.py\n",
        "# mortgage.py\n",
        "#\n",
        "# Exercise 1.7\n",
        "print(\"test\")"
      ],
      "metadata": {
        "id": "dGJivtBDXSGd",
        "colab": {
          "base_uri": "https://localhost:8080/"
        },
        "outputId": "183b690e-e247-499e-d6b3-134e24b627c1"
      },
      "execution_count": 18,
      "outputs": [
        {
          "output_type": "stream",
          "name": "stdout",
          "text": [
            "Overwriting /content/practical-python/Work/mortgage.py\n"
          ]
        }
      ]
    },
    {
      "cell_type": "code",
      "source": [],
      "metadata": {
        "colab": {
          "base_uri": "https://localhost:8080/"
        },
        "id": "EoUVyxc6XlOX",
        "outputId": "d29329c4-a047-45ab-91cc-b73e766fb7a0"
      },
      "execution_count": 16,
      "outputs": [
        {
          "output_type": "stream",
          "name": "stderr",
          "text": [
            "UsageError: %%writefile is a cell magic, but the cell body is empty.\n"
          ]
        }
      ]
    }
  ]
}