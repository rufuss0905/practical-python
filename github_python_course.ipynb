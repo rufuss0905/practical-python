{
  "nbformat": 4,
  "nbformat_minor": 0,
  "metadata": {
    "colab": {
      "provenance": [],
      "collapsed_sections": [],
      "authorship_tag": "ABX9TyOlVGnjt2XVhv1nk4QkNkz9",
      "include_colab_link": true
    },
    "kernelspec": {
      "name": "python3",
      "display_name": "Python 3"
    },
    "language_info": {
      "name": "python"
    }
  },
  "cells": [
    {
      "cell_type": "markdown",
      "metadata": {
        "id": "view-in-github",
        "colab_type": "text"
      },
      "source": [
        "<a href=\"https://colab.research.google.com/github/rufuss0905/practical-python/blob/master/github_python_course.ipynb\" target=\"_parent\"><img src=\"https://colab.research.google.com/assets/colab-badge.svg\" alt=\"Open In Colab\"/></a>"
      ]
    },
    {
      "cell_type": "code",
      "source": [
        "# mortgage.py\n",
        "#\n",
        "# Exercise 1.7\n",
        "print(1234)"
      ],
      "metadata": {
        "colab": {
          "base_uri": "https://localhost:8080/"
        },
        "id": "oWs_B4tUW589",
        "outputId": "de62ad63-1e96-4480-f0da-31d16bdf7e5d"
      },
      "execution_count": null,
      "outputs": [
        {
          "output_type": "stream",
          "name": "stdout",
          "text": [
            "1234\n"
          ]
        }
      ]
    },
    {
      "cell_type": "code",
      "source": [
        "%%writefile /content/practical-python/Work/mortgage.py\n",
        "# mortgage.py\n",
        "#\n",
        "# Exercise 1.7\n",
        "print(\"test\")"
      ],
      "metadata": {
        "id": "dGJivtBDXSGd",
        "colab": {
          "base_uri": "https://localhost:8080/"
        },
        "outputId": "31de1372-ae4c-4110-c7d5-a45089312a31"
      },
      "execution_count": 19,
      "outputs": [
        {
          "output_type": "stream",
          "name": "stdout",
          "text": [
            "Overwriting /content/practical-python/Work/mortgage.py\n"
          ]
        }
      ]
    }
  ]
}